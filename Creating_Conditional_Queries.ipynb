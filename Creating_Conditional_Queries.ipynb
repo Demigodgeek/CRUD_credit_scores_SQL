{
 "cells": [
  {
   "cell_type": "markdown",
   "metadata": {},
   "source": [
    "# Creating Conditional Queries\n",
    "    > **Hint** In the `stock_prices` table, the “date” column stores its data as strings and not as numerical values. To access this data via a SQL query, you need to place it in quotation marks&mdash;for example, “2019-08-07”."
   ]
  },
  {
   "cell_type": "code",
   "execution_count": 1,
   "metadata": {},
   "outputs": [],
   "source": [
    "# Import the required libraries and dependencies\n",
    "import pandas as pd\n",
    "from pathlib import Path\n",
    "import sqlalchemy"
   ]
  },
  {
   "cell_type": "code",
   "execution_count": 2,
   "metadata": {},
   "outputs": [
    {
     "data": {
      "text/html": [
       "<div>\n",
       "<style scoped>\n",
       "    .dataframe tbody tr th:only-of-type {\n",
       "        vertical-align: middle;\n",
       "    }\n",
       "\n",
       "    .dataframe tbody tr th {\n",
       "        vertical-align: top;\n",
       "    }\n",
       "\n",
       "    .dataframe thead th {\n",
       "        text-align: right;\n",
       "    }\n",
       "</style>\n",
       "<table border=\"1\" class=\"dataframe\">\n",
       "  <thead>\n",
       "    <tr style=\"text-align: right;\">\n",
       "      <th></th>\n",
       "      <th>AAPL</th>\n",
       "      <th>MSFT</th>\n",
       "      <th>TSLA</th>\n",
       "      <th>ZM</th>\n",
       "      <th>date</th>\n",
       "    </tr>\n",
       "  </thead>\n",
       "  <tbody>\n",
       "    <tr>\n",
       "      <th>0</th>\n",
       "      <td>205.20</td>\n",
       "      <td>138.94</td>\n",
       "      <td>253.4800</td>\n",
       "      <td>99.7600</td>\n",
       "      <td>2019-07-15</td>\n",
       "    </tr>\n",
       "    <tr>\n",
       "      <th>1</th>\n",
       "      <td>204.49</td>\n",
       "      <td>137.08</td>\n",
       "      <td>252.4000</td>\n",
       "      <td>97.0400</td>\n",
       "      <td>2019-07-16</td>\n",
       "    </tr>\n",
       "    <tr>\n",
       "      <th>2</th>\n",
       "      <td>203.28</td>\n",
       "      <td>136.22</td>\n",
       "      <td>254.8300</td>\n",
       "      <td>99.7000</td>\n",
       "      <td>2019-07-17</td>\n",
       "    </tr>\n",
       "    <tr>\n",
       "      <th>3</th>\n",
       "      <td>205.66</td>\n",
       "      <td>136.28</td>\n",
       "      <td>253.5900</td>\n",
       "      <td>95.1000</td>\n",
       "      <td>2019-07-18</td>\n",
       "    </tr>\n",
       "    <tr>\n",
       "      <th>4</th>\n",
       "      <td>202.57</td>\n",
       "      <td>136.62</td>\n",
       "      <td>258.0789</td>\n",
       "      <td>93.3125</td>\n",
       "      <td>2019-07-19</td>\n",
       "    </tr>\n",
       "  </tbody>\n",
       "</table>\n",
       "</div>"
      ],
      "text/plain": [
       "     AAPL    MSFT      TSLA       ZM        date\n",
       "0  205.20  138.94  253.4800  99.7600  2019-07-15\n",
       "1  204.49  137.08  252.4000  97.0400  2019-07-16\n",
       "2  203.28  136.22  254.8300  99.7000  2019-07-17\n",
       "3  205.66  136.28  253.5900  95.1000  2019-07-18\n",
       "4  202.57  136.62  258.0789  93.3125  2019-07-19"
      ]
     },
     "execution_count": 2,
     "metadata": {},
     "output_type": "execute_result"
    }
   ],
   "source": [
    "# Using the Pandas read_csv funcion and the Path module, \n",
    "# read \"stocks.csv\" file into a Pandas DataFrame\n",
    "\n",
    "stock_prices_df = pd.read_csv(\n",
    "    Path(\"../Resources/stocks.csv\")\n",
    ")\n",
    " \n",
    "# Review the DataFrame\n",
    "stock_prices_df.head()"
   ]
  },
  {
   "cell_type": "code",
   "execution_count": 3,
   "metadata": {},
   "outputs": [
    {
     "data": {
      "text/plain": [
       "Engine(sqlite:///)"
      ]
     },
     "execution_count": 3,
     "metadata": {},
     "output_type": "execute_result"
    }
   ],
   "source": [
    "# Create the connection string for your SQLite database\n",
    "database_connection_string = 'sqlite:///'\n",
    "\n",
    "# Pass the connection string to the SQLAlchemy create_engine function\n",
    "engine = sqlalchemy.create_engine(database_connection_string)\n",
    "\n",
    "# Confirm that the database engine was created.\n",
    "engine"
   ]
  },
  {
   "cell_type": "code",
   "execution_count": 4,
   "metadata": {},
   "outputs": [
    {
     "data": {
      "text/plain": [
       "['stock_prices']"
      ]
     },
     "execution_count": 4,
     "metadata": {},
     "output_type": "execute_result"
    }
   ],
   "source": [
    "# Using the stock_prices_df DataFrame, create a table called stocks_prices\n",
    "# inside your newly created database\n",
    "# Be sure to include the parameters for the engine, the index, and if_exists with the function\n",
    "stock_prices_df.to_sql(\n",
    "    'stock_prices', \n",
    "    engine, \n",
    "    index=False, \n",
    "    if_exists='replace'\n",
    ")\n",
    "\n",
    "# Confirm that the table was created by calling the table_names function\n",
    "engine.table_names()"
   ]
  },
  {
   "cell_type": "markdown",
   "metadata": {},
   "source": [
    "## Step 5: Write a SQL query to return the \"date\" and “TSLA” columns, where the “TSLA” value is less than 400. "
   ]
  },
  {
   "cell_type": "code",
   "execution_count": null,
   "metadata": {
    "scrolled": true
   },
   "outputs": [],
   "source": [
    "# Write the SQL query to return the date and TSLA columns, where the TSLA value is less than 400.\n",
    "query_tsla_less_400 = \"\"\"\n",
    "SELECT date, TSLA\n",
    "FROM stock_prices\n",
    "WHERE TSLA < 400\n",
    "\"\"\"\n",
    "\n",
    "# Call on the database engine to execute the query \n",
    "results = engine.execute(query_tsla_less_400)\n",
    "\n",
    "# List of the results of the database query\n",
    "list(results)"
   ]
  },
  {
   "cell_type": "markdown",
   "metadata": {},
   "source": [
    "## Step 6: Write a SQL query to return the \"date\" and “TSLA” columns, where the TSLA value is greater than 400. "
   ]
  },
  {
   "cell_type": "code",
   "execution_count": null,
   "metadata": {
    "scrolled": true
   },
   "outputs": [],
   "source": [
    "# Write the SQL query to return the date and TSLA columns, where the TSLA value is greater than 400.\n",
    "query_tsla_greater_400 = \"\"\"\n",
    "SELECT date, TSLA\n",
    "FROM stock_prices\n",
    "WHERE TSLA > 400\n",
    "\"\"\"\n",
    "\n",
    "# Call on the database engine to execute the query\n",
    "results = engine.execute(query_tsla_greater_400)\n",
    "\n",
    "# List of the results of the database query\n",
    "list(results)"
   ]
  },
  {
   "cell_type": "markdown",
   "metadata": {},
   "source": [
    "## Step 7: Write a SQL query to return the \"date\", “AAPL”, and “TSLA” columns, where the “date” column equals 2019-08-07. "
   ]
  },
  {
   "cell_type": "code",
   "execution_count": 7,
   "metadata": {},
   "outputs": [
    {
     "data": {
      "text/plain": [
       "[('2019-08-07', 233.47, 199.14)]"
      ]
     },
     "execution_count": 7,
     "metadata": {},
     "output_type": "execute_result"
    }
   ],
   "source": [
    "query_date_2019_08_07 = \"\"\"\n",
    "SELECT date, TSLA, AAPL\n",
    "FROM stock_prices\n",
    "WHERE date = \"2019-08-07\"\n",
    "\"\"\"\n",
    "\n",
    "# Call on the database engine to execute the query\n",
    "results = engine.execute(query_date_2019_08_07)\n",
    "\n",
    "# List of the results of the database query\n",
    "list(results)"
   ]
  }
 ],
 "metadata": {
  "kernelspec": {
   "display_name": "dev",
   "language": "python",
   "name": "dev"
  },
  "language_info": {
   "codemirror_mode": {
    "name": "ipython",
    "version": 3
   },
   "file_extension": ".py",
   "mimetype": "text/x-python",
   "name": "python",
   "nbconvert_exporter": "python",
   "pygments_lexer": "ipython3",
   "version": "3.9.16"
  }
 },
 "nbformat": 4,
 "nbformat_minor": 4
}
