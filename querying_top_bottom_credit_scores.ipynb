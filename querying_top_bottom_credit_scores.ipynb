{
 "cells": [
  {
   "cell_type": "markdown",
   "metadata": {},
   "source": [
    "# Querying Top and Bottom Credit Scores"
   ]
  },
  {
   "cell_type": "code",
   "execution_count": 5,
   "metadata": {},
   "outputs": [
    {
     "data": {
      "text/plain": [
       "[('Jacob Pineda', 'North Victoriaside', 842, 'Experian'),\n",
       " ('Dawn Underwood', 'New Brianshire', 830, 'Experian'),\n",
       " ('Rebecca Cook', 'North Lynnbury', 819, 'Equifax'),\n",
       " ('Tracey Smith', 'Janetview', 815, 'TransUnion'),\n",
       " ('Christy Wagner', 'Ritafort', 805, 'TransUnion'),\n",
       " ('Paul Hall', 'Bethshire', 794, 'Experian'),\n",
       " ('Morgan Bradshaw', 'Huynhfort', 792, 'Equifax'),\n",
       " ('Stacy Keller', 'Lauraborough', 791, 'Equifax'),\n",
       " ('Cynthia Strong', 'Emilymouth', 770, 'TransUnion'),\n",
       " ('Felicia Vargas', 'New Carol', 768, 'Experian')]"
      ]
     },
     "execution_count": 5,
     "metadata": {},
     "output_type": "execute_result"
    }
   ],
   "source": [
    "# Create and execute a query to return all columns for the 10 highest credit scores.\n",
    "query_credit_top_10 = \"\"\"\n",
    "SELECT *\n",
    "FROM credit_score_info\n",
    "ORDER BY credit_score DESC\n",
    "LIMIT 10;\n",
    "\"\"\"\n",
    "\n",
    "# Call on the database engine to execute the query\n",
    "results = engine.execute(query_credit_top_10)\n",
    "\n",
    "# List of the results of the database query\n",
    "list(results)"
   ]
  },
  {
   "cell_type": "code",
   "execution_count": 6,
   "metadata": {},
   "outputs": [
    {
     "data": {
      "text/plain": [
       "[('Christopher Baldwin', 'Lake Susan', 300, 'Equifax'),\n",
       " ('Robert Brown', 'North Rhonda', 301, 'Equifax'),\n",
       " ('Lynn Cain', 'Port Peterside', 311, 'Equifax'),\n",
       " ('Eric Russell', 'South Raymond', 315, 'Equifax'),\n",
       " ('Rachel Parker', 'Sarahfurt', 329, 'Experian'),\n",
       " ('Douglas Bridges', 'Lake Clayton', 333, 'Experian'),\n",
       " ('Julie Mendez', 'Port Jasonton', 334, 'TransUnion'),\n",
       " ('Tammy Blevins', 'Pachecobury', 334, 'Experian'),\n",
       " ('Debra Foster', 'Lake Alanmouth', 334, 'TransUnion'),\n",
       " ('Jamie Potter', 'South Joshuastad', 338, 'Experian')]"
      ]
     },
     "execution_count": 6,
     "metadata": {},
     "output_type": "execute_result"
    }
   ],
   "source": [
    "# Create and execute a query to return all columns for the 10 lowest credit scores.\n",
    "query_credit_bottom_10 = \"\"\"\n",
    "SELECT *\n",
    "FROM credit_score_info\n",
    "ORDER BY credit_score ASC\n",
    "LIMIT 10;\n",
    "\"\"\"\n",
    "\n",
    "# Call on the database engine to execute the query\n",
    "results = engine.execute(query_credit_bottom_10)\n",
    "\n",
    "# List of the results of the database query\n",
    "list(results)"
   ]
  }
 ],
 "metadata": {
  "kernelspec": {
   "display_name": "dev",
   "language": "python",
   "name": "dev"
  },
  "language_info": {
   "codemirror_mode": {
    "name": "ipython",
    "version": 3
   },
   "file_extension": ".py",
   "mimetype": "text/x-python",
   "name": "python",
   "nbconvert_exporter": "python",
   "pygments_lexer": "ipython3",
   "version": "3.9.16"
  }
 },
 "nbformat": 4,
 "nbformat_minor": 4
}
